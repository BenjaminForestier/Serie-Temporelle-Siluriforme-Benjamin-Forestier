{
 "cells": [
  {
   "cell_type": "markdown",
   "metadata": {},
   "source": [
    "TP Siluroformes de Benjamin Forestier"
   ]
  },
  {
   "cell_type": "code",
   "execution_count": null,
   "metadata": {},
   "outputs": [],
   "source": [
    "import pandas\n",
    "import matplotlib.pyplot as plt\n",
    "\n",
    "siluriforme = pandas.read_csv('catfish.csv', index_col='Date', parse_dates=True)\n",
    "siluriforme.head(1)\n",
    "siluriforme.tail(-1)\n",
    "\n",
    "plt.rcParams[\"figure.figsize\"] = (10, 5)\n",
    "siluriforme.plot()"
   ]
  },
  {
   "cell_type": "code",
   "execution_count": null,
   "metadata": {},
   "outputs": [],
   "source": [
    "subset = siluriforme.loc['1996-1-01':'2000-1-01'] # Exemple : de janvier à juin 2023\n",
    "subset.plot()\n",
    "plt.show()\n"
   ]
  },
  {
   "cell_type": "markdown",
   "metadata": {},
   "source": [
    "Moyennes des ventes :"
   ]
  },
  {
   "cell_type": "code",
   "execution_count": null,
   "metadata": {},
   "outputs": [],
   "source": [
    "import numpy as np\n",
    "\n",
    "# Année 92\n",
    "year = siluriforme.loc['1992']\n",
    "print(f\"1992 : {np.mean(year)}\")\n",
    "\n",
    "# Décennie 90\n",
    "decade = siluriforme.loc['1990-1-01':'1999-12-31']\n",
    "print(f\"90 : {np.mean(decade)}\")\n",
    "\n",
    "# Ensemble du dataset\n",
    "print(f\"Dataset : {np.mean(siluriforme)}\")"
   ]
  },
  {
   "cell_type": "markdown",
   "metadata": {},
   "source": [
    "Médianne des ventes :"
   ]
  },
  {
   "cell_type": "code",
   "execution_count": null,
   "metadata": {},
   "outputs": [],
   "source": [
    "# Année 92\n",
    "year = siluriforme.loc['1992']\n",
    "print(f\"1992 : {np.median(year)}\")\n",
    "\n",
    "# Décennie 90\n",
    "decade = siluriforme.loc['1990-1-01':'1999-12-31']\n",
    "print(f\"90 : {np.median(decade)}\")\n",
    "\n",
    "# Ensemble du dataset\n",
    "print(f\"Dataset : {np.median(siluriforme)}\")"
   ]
  },
  {
   "cell_type": "markdown",
   "metadata": {},
   "source": [
    "Mode des ventes :"
   ]
  },
  {
   "cell_type": "code",
   "execution_count": null,
   "metadata": {},
   "outputs": [],
   "source": [
    "# Année 1992\n",
    "year = siluriforme.loc['1992']\n",
    "value_counts_year = year[\"Total\"].value_counts()\n",
    "modes = year[\"Total\"].mode()\n",
    "print(\"Année 1992 :\")\n",
    "for mode in modes:\n",
    "    print(f\"{mode} apparaît {value_counts_year[mode]} fois\")\n",
    "# print(year[\"Total\"].mode)\n",
    "\n",
    "# Décennie 90\n",
    "decade = siluriforme.loc['1990-1-01':'1999-12-31']\n",
    "value_counts_decade = decade[\"Total\"].value_counts()\n",
    "modes = decade[\"Total\"].mode()\n",
    "print(\"Décennie 90 :\")\n",
    "for mode in modes:\n",
    "    print(f\"{mode} apparaît {value_counts_decade[mode]} fois\")\n",
    "# print(decade[\"Total\"].mode)\n",
    "\n",
    "# Ensemble du dataset\n",
    "value_counts_dataset = siluriforme[\"Total\"].value_counts()\n",
    "modes = siluriforme[\"Total\"].mode()\n",
    "print(\"Ensemble du dataset :\")\n",
    "for mode in modes:\n",
    "    print(f\"{mode} apparaît {value_counts_dataset[mode]} fois\")\n",
    "# print(siluriforme[\"Total\"].mode)"
   ]
  },
  {
   "cell_type": "markdown",
   "metadata": {},
   "source": [
    "On peut en conclure qu'il n'y a jamais exactement la même quantité de siluriformes bien que les valeurs tournent autour des 15000, 18000 et 19000."
   ]
  },
  {
   "cell_type": "markdown",
   "metadata": {},
   "source": [
    "Ecart-type des ventes :"
   ]
  },
  {
   "cell_type": "code",
   "execution_count": null,
   "metadata": {},
   "outputs": [],
   "source": [
    "# Année 1992\n",
    "year = siluriforme.loc['1992']\n",
    "print(f\"L'écart-type pour l'année 1992 est : {year.std()}\")\n",
    "\n",
    "# Décennie 90\n",
    "decade = siluriforme.loc['1990-1-01':'1999-12-31']\n",
    "print(f\"L'écart-type pour la décennie 90 est : {decade.std()}\")\n",
    "\n",
    "# Ensemble du dataset\n",
    "print(f\"L'écart-type pour l'ensemble du dataset est : {siluriforme.std()}\")"
   ]
  },
  {
   "cell_type": "markdown",
   "metadata": {},
   "source": [
    "Série stationnaire ?"
   ]
  },
  {
   "cell_type": "code",
   "execution_count": null,
   "metadata": {},
   "outputs": [],
   "source": [
    "rolling_mean = siluriforme.rolling(window=12).mean()\n",
    "rolling_std = siluriforme.rolling(window=12).std()\n",
    "\n",
    "plt.plot(siluriforme, color='b', label='Origine')\n",
    "plt.plot(rolling_mean, color='r', label='Moyenne mobile')\n",
    "plt.plot(rolling_std, color='g', label='Ecart-type mobile')\n",
    "plt.legend(loc='best')\n",
    "plt.title('Moyenne et Ecart-type mobiles')\n",
    "plt.show()"
   ]
  },
  {
   "cell_type": "markdown",
   "metadata": {},
   "source": [
    "On pouvait déjà s'en rendre compte avec le graphique de la question 2 représentant la courbe des ventes. Mais les statistiques roulantes augmentant et diminuant avec le temps nous prouve bel et bien que cette série temporelle n'est pas stationnaire."
   ]
  },
  {
   "cell_type": "markdown",
   "metadata": {},
   "source": [
    "Saisonnalité ?"
   ]
  },
  {
   "cell_type": "code",
   "execution_count": null,
   "metadata": {},
   "outputs": [],
   "source": [
    "log_siluriforme = np.log(siluriforme)\n",
    "plt.figure(figsize=(12, 6))\n",
    "\n",
    "years = [str(year) for year in log_siluriforme.index.year.unique()]\n",
    "months = log_siluriforme.index.month_name().unique()\n",
    "colors = plt.cm.inferno(np.linspace(0, 1, len(years)))\n",
    "\n",
    "for index, year in enumerate(years):\n",
    "    plt.plot(months, log_siluriforme.loc[year], label=year, color = colors[index])\n",
    "    plt.legend(bbox_to_anchor=(1, 1))"
   ]
  },
  {
   "cell_type": "markdown",
   "metadata": {},
   "source": [
    "On peut en effet voir ce qui ressemble à une saisonnalité annuelle, le grapahique ci-dessus le montre, bien qu'a partir des années 2006 - 2007 les courbes se déforme un peu mais puisque les ventes s'effondrent mais en gardant une certaine forme de saisonnalité."
   ]
  },
  {
   "cell_type": "markdown",
   "metadata": {},
   "source": [
    "Tendance ?"
   ]
  },
  {
   "cell_type": "code",
   "execution_count": null,
   "metadata": {},
   "outputs": [],
   "source": [
    "windows = list(range(3, 25, 3)) + [36]\n",
    "fig = plt.figure(figsize=(12, 8))\n",
    "for index, window in enumerate(windows, start=1):\n",
    "    ax = fig.add_subplot(3, int(len(windows) / 3), index)\n",
    "    ax.plot(log_siluriforme)\n",
    "    ax.plot(log_siluriforme.rolling(window, center=True).mean(), label=f'Moyenne sur {window} mois')\n",
    "    ax.legend()"
   ]
  },
  {
   "cell_type": "markdown",
   "metadata": {},
   "source": [
    "On constate une tendance croissante entre 1988 et 2004 et décroissante entre 2004 et 2012. Cette tendance suggère en effet une notionde saisonnalité."
   ]
  },
  {
   "cell_type": "markdown",
   "metadata": {},
   "source": [
    "Modéle prédictif à partir des donnéees de 1986 à 2000"
   ]
  },
  {
   "cell_type": "code",
   "execution_count": null,
   "metadata": {},
   "outputs": [],
   "source": [
    "from statsmodels.tsa.api import graphics\n",
    "from statsmodels.tsa.stattools import adfuller\n",
    "\n",
    "def get_stationarity(timeseries, window=12):\n",
    "    # Statistiques mobiles\n",
    "    rolling_mean = timeseries.rolling(window=window).mean()\n",
    "    rolling_std = timeseries.rolling(window=window).std()\n",
    "\n",
    "    # tracé statistiques mobiles\n",
    "    original = plt.plot(timeseries, color='b', label='Origine')\n",
    "    mean = plt.plot(rolling_mean, color='r', label='Moyenne Mobile')\n",
    "    std = plt.plot(rolling_std, color='g', label='Ecart-type Mobile')\n",
    "    plt.legend(loc='best')\n",
    "    plt.title('Moyenne et écart-type Mobiles')\n",
    "    plt.show(block=False)\n",
    "\n",
    "    # Test Dickey–Fuller :\n",
    "    result = adfuller(timeseries)\n",
    "    print('Statistiques ADF : {}'.format(result[0]))\n",
    "    print('p-value : {}'.format(result[1]))\n",
    "    print('Valeurs Critiques :')\n",
    "    for key, value in result[4].items():\n",
    "        print('\\t{}: {}'.format(key, value))\n",
    "\n",
    "    graphics.plot_acf(timeseries, lags=None)"
   ]
  },
  {
   "cell_type": "code",
   "execution_count": null,
   "metadata": {},
   "outputs": [],
   "source": [
    "rolling_mean = log_siluriforme.rolling(window=12).mean()\n",
    "df_log_minus_mean = log_siluriforme - rolling_mean\n",
    "df_log_minus_mean.dropna(inplace=True)\n",
    "\n",
    "get_stationarity(df_log_minus_mean, 12)"
   ]
  },
  {
   "cell_type": "code",
   "execution_count": null,
   "metadata": {},
   "outputs": [],
   "source": [
    "rolling_mean_exp_decay = log_siluriforme.ewm(halflife=12, min_periods=0, adjust=True).mean()\n",
    "df_log_exp_decay = log_siluriforme - rolling_mean_exp_decay\n",
    "df_log_exp_decay.dropna(inplace=True)\n",
    "get_stationarity(df_log_exp_decay, 12)"
   ]
  },
  {
   "cell_type": "code",
   "execution_count": null,
   "metadata": {},
   "outputs": [],
   "source": [
    "df_log_shift = log_siluriforme - log_siluriforme.shift()\n",
    "df_log_shift.dropna(inplace=True)\n",
    "get_stationarity(df_log_shift, 12)"
   ]
  },
  {
   "cell_type": "code",
   "execution_count": null,
   "metadata": {},
   "outputs": [],
   "source": [
    "differenced = siluriforme.diff().dropna()\n",
    "get_stationarity(differenced, 12)"
   ]
  },
  {
   "cell_type": "code",
   "execution_count": null,
   "metadata": {},
   "outputs": [],
   "source": [
    "from statsmodels.tsa.api import graphics\n",
    "\n",
    "def plot_acf_pacf(timeseries):\n",
    "    fig = plt.figure(figsize=(12, 18))\n",
    "    for index, (timeserie_title, timeserie) in enumerate(timeseries.items()):\n",
    "        index = index * 2\n",
    "        ax = fig.add_subplot(len(timeseries), 2, index + 1)\n",
    "        ax.title.set_text(timeserie_title)\n",
    "        graphics.plot_acf(timeserie, ax=ax)\n",
    "        ax.title.set_text('ACF %s' % timeserie_title)\n",
    "\n",
    "        ax = fig.add_subplot(len(timeseries), 2, index + 2)\n",
    "        graphics.plot_pacf(timeserie, ax=ax)\n",
    "        ax.title.set_text('PACF %s' % timeserie_title)\n",
    "\n",
    "plot_acf_pacf({\n",
    "    'Soustraction de la moyenne': df_log_minus_mean,\n",
    "    'Décroissance exponentielle': df_log_exp_decay,\n",
    "    'Décalage temporel': df_log_shift,\n",
    "    'DIFF': differenced\n",
    "\n",
    "})"
   ]
  },
  {
   "cell_type": "markdown",
   "metadata": {},
   "source": [
    "p = 2\n",
    "d = 1\n",
    "q = 1\n",
    "ARIMA(2,1,1)"
   ]
  },
  {
   "cell_type": "code",
   "execution_count": null,
   "metadata": {},
   "outputs": [],
   "source": [
    "train_data = siluriforme.loc['1986':'2000']\n",
    "test_data = siluriforme.loc['2001':'2012']"
   ]
  },
  {
   "cell_type": "code",
   "execution_count": null,
   "metadata": {},
   "outputs": [],
   "source": [
    "from statsmodels.tsa.arima.model import ARIMA\n",
    "\n",
    "# Créer un modèle ARIMA(2,1,1)\n",
    "model = ARIMA(train_data, order=(2,1,1), freq='MS')\n",
    "\n",
    "# Ajuster le modèle\n",
    "model_fit = model.fit()\n",
    "\n",
    "# Afficher le résumé du modèle\n",
    "print(model_fit.summary())"
   ]
  },
  {
   "cell_type": "code",
   "execution_count": null,
   "metadata": {},
   "outputs": [],
   "source": [
    "residuals = model_fit.resid\n",
    "plot_acf_pacf({\n",
    "    'Residue modèle': residuals\n",
    "})"
   ]
  },
  {
   "cell_type": "code",
   "execution_count": null,
   "metadata": {},
   "outputs": [],
   "source": [
    "train_predictions = model_fit.predict(start=train_data.index[0], end=train_data.index[-1])\n",
    "\n",
    "# Prédictions sur l'ensemble de test\n",
    "test_predictions = model_fit.predict(start=test_data.index[0], end=test_data.index[-1])\n",
    "\n",
    "# Prédictions sur l'ensemble d'entraînement\n",
    "train_predictions = model_fit.predict(start=train_data.index[0], end=train_data.index[-1])\n",
    "\n",
    "# Prédictions sur l'ensemble de test\n",
    "test_predictions = model_fit.predict(start=test_data.index[0], end=test_data.index[-1])\n",
    "\n",
    "# Tracer les prédictions et les données réelles avec les courbes collées\n",
    "plt.figure(figsize=(10, 6))\n",
    "plt.plot(train_data.index, train_data.values, label='Ensemble d\\'entraînement', color='blue')\n",
    "plt.plot(test_data.index, test_data.values, label='Ensemble de test (réel)', color='blue', linestyle='--')\n",
    "plt.plot(train_predictions.index, train_predictions, label='Prédictions (Entraînement)', color='red')\n",
    "plt.plot(test_predictions.index, test_predictions, label='Prédictions (Test)', color='green')\n",
    "\n",
    "# Définir les limites des axes x et y pour une continuité visuelle\n",
    "#plt.xlim(train_data.index[0], test_data.index[-1])\n",
    "#plt.ylim(min(train_data.min(), test_data.min()), max(train_data.max(), test_data.max()))\n",
    "\n",
    "plt.xlabel('Date')\n",
    "plt.ylabel('Siluriformes vendus')\n",
    "plt.title('Prédictions du modèle ARIMA')\n",
    "plt.legend()\n",
    "plt.show()"
   ]
  },
  {
   "cell_type": "markdown",
   "metadata": {},
   "source": [
    "Selon le modèle que j'ai trouvé les prédictions de test sont complétement ratés, j'obtiens une ligne droite. Les modèles peuvent ne pas être justes, ils faut donc les prendre avec des pincettes"
   ]
  },
  {
   "cell_type": "markdown",
   "metadata": {},
   "source": [
    "Modéle prédictif avec la librairie pmdarima"
   ]
  },
  {
   "cell_type": "code",
   "execution_count": null,
   "metadata": {},
   "outputs": [],
   "source": [
    "import pmdarima as pm\n",
    "\n",
    "# Séparer les données en ensemble d'entraînement et ensemble de test\n",
    "train_data = siluriforme.loc['1986':'2000']\n",
    "test_data = siluriforme.loc['2001':'2012']\n",
    "\n",
    "# Utiliser auto_arima pour trouver le meilleur modèle ARIMA\n",
    "model = pm.auto_arima(train_data)\n",
    "\n",
    "print(model.summary())"
   ]
  },
  {
   "cell_type": "code",
   "execution_count": null,
   "metadata": {},
   "outputs": [],
   "source": [
    "# Ajuster le modèle aux données\n",
    "model.fit(train_data)\n",
    "# Obtenir les résidus du modèle\n",
    "residuals = model.resid()\n",
    "plot_acf_pacf({\n",
    "    'Residue modèle': residuals\n",
    "})"
   ]
  },
  {
   "cell_type": "code",
   "execution_count": null,
   "metadata": {},
   "outputs": [],
   "source": [
    "# Faire des prédictions sur l'ensemble d'entraînement\n",
    "train_pred, train_confint = model.predict_in_sample(return_conf_int=True)\n",
    "\n",
    "# Faire des prédictions sur l'ensemble de test\n",
    "n_periods = len(test_data)\n",
    "predicted, confint = model.predict(n_periods=n_periods, return_conf_int=True)\n",
    "\n",
    "# Concaténer les prédictions pour l'ensemble d'entraînement et de test\n",
    "all_predictions = pandas.concat([pandas.Series(train_pred, index=train_data.index),\n",
    "                            pandas.Series(predicted, index=test_data.index)],\n",
    "                            axis=0)\n",
    "\n",
    "# Tracer les valeurs réelles et les prédictions pour l'ensemble d'entraînement et de test\n",
    "plt.figure(figsize=(12, 6))\n",
    "plt.plot(train_data, label='Observed Training', color='blue')\n",
    "plt.plot(test_data, label='Observed Test', color='green')\n",
    "plt.plot(all_predictions, label='Predicted', color='red')\n",
    "\n",
    "plt.xlabel('Date')\n",
    "plt.ylabel('Siluriformes vendus')\n",
    "plt.title('Observed vs Predicted Passengers')\n",
    "plt.legend()\n",
    "plt.grid(True)\n",
    "plt.show()"
   ]
  },
  {
   "cell_type": "markdown",
   "metadata": {},
   "source": [
    "Le modèle généré avec la librairie garde la saisonalité cependant, ont observe une stationnarisation des données crée alors que les données observé indique clairement une décroissance du nombre de silriformes vendus."
   ]
  },
  {
   "cell_type": "markdown",
   "metadata": {},
   "source": [
    "Poisson-chat et loi normale"
   ]
  },
  {
   "cell_type": "markdown",
   "metadata": {},
   "source": [
    "Entre 10 et 25 cm ?\n",
    "Moins de 25 cm ?\n",
    "Plus de 30 cm ?"
   ]
  },
  {
   "cell_type": "code",
   "execution_count": null,
   "metadata": {},
   "outputs": [],
   "source": [
    "from statistics import NormalDist\n",
    "\n",
    "mu = 25\n",
    "sigma = 7.5\n",
    "\n",
    "dist = NormalDist(mu, sigma)\n",
    "\n",
    "p_between_10_25 = dist.cdf(25) - dist.cdf(10)  # P(10 ≤ X ≤ 25)\n",
    "p_less_25 = dist.cdf(25)               # P(X ≤ 25)\n",
    "p_more_30 = 1 - dist.cdf(30)           # P(X ≥ 30)\n",
    "\n",
    "p_between_10_25 = round(p_between_10_25, 3)\n",
    "p_less_25 = round(p_less_25, 3)\n",
    "p_more_30 = round(p_more_30, 3)\n",
    "\n",
    "print(f\"La proba qu'un poisson est une taille entre 10 et 25 cm est : P(10 ≤ X ≤ 25) = {p_between_10_25}\")\n",
    "print(f\"La proba qu'un poisson est une taille de moins de 25 cm est : P(X ≤ 25) = {p_less_25}\")\n",
    "print(f\"La proba qu'un poisson est une taille de plus 30 cm est : P(X ≥ 30) = {p_more_30}\")\n"
   ]
  }
 ],
 "metadata": {
  "kernelspec": {
   "display_name": "serie-temporelle",
   "language": "python",
   "name": "python3"
  },
  "language_info": {
   "codemirror_mode": {
    "name": "ipython",
    "version": 3
   },
   "file_extension": ".py",
   "mimetype": "text/x-python",
   "name": "python",
   "nbconvert_exporter": "python",
   "pygments_lexer": "ipython3",
   "version": "3.10.7"
  }
 },
 "nbformat": 4,
 "nbformat_minor": 2
}
